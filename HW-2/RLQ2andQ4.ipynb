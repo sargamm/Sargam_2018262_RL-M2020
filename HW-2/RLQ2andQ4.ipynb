{
  "nbformat": 4,
  "nbformat_minor": 0,
  "metadata": {
    "colab": {
      "name": "RLQ2andQ4.ipynb",
      "provenance": []
    },
    "kernelspec": {
      "name": "python3",
      "display_name": "Python 3"
    }
  },
  "cells": [
    {
      "cell_type": "code",
      "metadata": {
        "id": "bf6S8xoXGkma"
      },
      "source": [
        "import numpy as np\n",
        "from sympy import Symbol, nsolve\n",
        "import sympy"
      ],
      "execution_count": null,
      "outputs": []
    },
    {
      "cell_type": "code",
      "metadata": {
        "id": "aF8OWn6YB18_"
      },
      "source": [
        "from scipy.optimize import fsolve\n",
        "import math"
      ],
      "execution_count": null,
      "outputs": []
    },
    {
      "cell_type": "markdown",
      "metadata": {
        "id": "guJHD8G8fnTg"
      },
      "source": [
        "## Q2"
      ]
    },
    {
      "cell_type": "code",
      "metadata": {
        "id": "gC4o0jUJF8AQ"
      },
      "source": [
        "CellID={}\n",
        "c=0\n",
        "for i in range(5):\n",
        "  for j in range(5):\n",
        "    CellID[(i,j)]=c\n",
        "    c+=1\n",
        "# print(CellID)\n",
        "A_pos=(0,1)\n",
        "B_pos=(0,3)\n",
        "AR=10\n",
        "BR=5\n",
        "Anext_pos=(4,1)\n",
        "Bnext_pos=(2,3)"
      ],
      "execution_count": null,
      "outputs": []
    },
    {
      "cell_type": "code",
      "metadata": {
        "id": "kKn5JA0485eU"
      },
      "source": [
        "def getNextStateAndReward(Action,curState_r,curState_c):\n",
        "  r,c=curState_r,curState_c\n",
        "  curState=(r,c)\n",
        "  NextState=(-1,-1)\n",
        "  R=0\n",
        "  if (r==0 and Action==0) or (r==4 and Action==2) or (c==0 and Action==3) or (c==4 and Action==1):\n",
        "    R=-1\n",
        "    NextState=curState\n",
        "  elif curState==A_pos:\n",
        "    R=10\n",
        "    NextState=Anext_pos\n",
        "  elif curState==B_pos:\n",
        "    R=5\n",
        "    NextState=Bnext_pos\n",
        "  else:\n",
        "    if Action==0:\n",
        "      NextState=(r-1,c)\n",
        "    elif Action==1:\n",
        "      NextState=(r,c+1)\n",
        "    elif Action==2:\n",
        "      NextState=(r+1,c)\n",
        "    elif Action==3:\n",
        "      NextState=(r,c-1)\n",
        "  return [NextState,R]\n",
        "\n"
      ],
      "execution_count": null,
      "outputs": []
    },
    {
      "cell_type": "code",
      "metadata": {
        "id": "fwpyAe8rp1M_",
        "outputId": "4e1e0a65-52f6-434e-94dc-411bb0a90b1f",
        "colab": {
          "base_uri": "https://localhost:8080/",
          "height": 100
        }
      },
      "source": [
        "Coeff=[[0 for i in range(25)]for j in range(25)]\n",
        "constants=[0 for i in range(25)]\n",
        "eqn=0\n",
        "gamma=0.9\n",
        "for i in range(5):\n",
        "  for j in range(5):\n",
        "    currPos=CellID[(i,j)]\n",
        "    Coeff[eqn][currPos]=1\n",
        "    #actions: 0-north 1-east 2-south 3-west\n",
        "    for action in range(4):\n",
        "      x=(i,j)\n",
        "      SNext,R=getNextStateAndReward(action,i,j)\n",
        "      SNext=CellID[SNext]\n",
        "      Coeff[eqn][SNext]+=-gamma/4\n",
        "      constants[eqn]+=R/4\n",
        "    eqn+=1\n",
        "ans=np.linalg.solve(Coeff,constants)\n",
        "# v=[[],[],[],[],[]]\n",
        "for i in range(5):\n",
        "  for j in range(5*i,5*i+5):\n",
        "    print(ans[j],end=\" \")\n",
        "  print(\"\")\n"
      ],
      "execution_count": null,
      "outputs": [
        {
          "output_type": "stream",
          "text": [
            "2.949639069724436 8.136148535942393 3.9846163758201256 4.707372776012998 1.1528129540907548 \n",
            "1.296302523384006 2.7045472368468997 1.9923795380917066 1.631737154623907 0.33283666731995737 \n",
            "-0.0780331704708706 0.595379344123669 0.5341194020055408 0.21957615023714638 -0.52700158794592 \n",
            "-1.0493516769073405 -0.5145030500541512 -0.43347102353900796 -0.6629609676295437 -1.2565293982597165 \n",
            "-1.910786222155818 -1.3992368661402148 -1.2831932667174368 -1.47606891790306 -2.0269720384302268 \n"
          ],
          "name": "stdout"
        }
      ]
    },
    {
      "cell_type": "markdown",
      "metadata": {
        "id": "WjZXB120fjy4"
      },
      "source": [
        "## Q4"
      ]
    },
    {
      "cell_type": "code",
      "metadata": {
        "id": "P2c4lJzoqK0A"
      },
      "source": [
        "# v=[]\n",
        "# for i in range(25):\n",
        "#   var='v'+str(i)\n",
        "#   v.append(Symbol(var))"
      ],
      "execution_count": null,
      "outputs": []
    },
    {
      "cell_type": "code",
      "metadata": {
        "id": "Dc7COi_OFhci"
      },
      "source": [
        "def func(v):\n",
        "  # v=v.reshape((5,5))\n",
        "  # eqns=np.zeros((5,5))\n",
        "  eqns=np.zeros(25)\n",
        "  gamma=0.9\n",
        "  for i in range(5):\n",
        "    for j in range(5):\n",
        "      currPos=CellID[(i,j)]\n",
        "      cur=[]\n",
        "      #actions: 0-north 1-east 2-south 3-west\n",
        "      for action in range(4):\n",
        "        x=(i,j)\n",
        "        SNext,R=getNextStateAndReward(action,i,j)\n",
        "        x,y=SNext\n",
        "        # print(x,y)\n",
        "        cur.append((R+gamma*v[CellID[(x,y)]]))\n",
        "      eqns[currPos]=v[currPos]-max(cur)\n",
        "  return eqns"
      ],
      "execution_count": null,
      "outputs": []
    },
    {
      "cell_type": "code",
      "metadata": {
        "id": "VJPNSKZFGevX",
        "outputId": "9dee6bae-4eb1-4511-94cf-3f7ef559dd41",
        "colab": {
          "base_uri": "https://localhost:8080/",
          "height": 117
        }
      },
      "source": [
        "v=[20 for j in range(25)]\n",
        "gamma=0.9\n",
        "v_star = fsolve(func, v).reshape(5,5)\n",
        "pi_star=[[-1 for i in range(5)] for j in range(5)]\n",
        "for i in range(5):\n",
        "  for j in range(5):\n",
        "    action_values=np.zeros(4)\n",
        "    for action in range(4):\n",
        "      x=(i,j)\n",
        "      SNext,R=getNextStateAndReward(action,i,j)\n",
        "      x,y=SNext\n",
        "      # print(x,y)\n",
        "      action_values[action]=R+gamma*v_star[x][y]\n",
        "    pi_star[i][j]=np.argmax(action_values)\n",
        "print(v_star)\n",
        "print(pi_star)\n",
        "# print(root)"
      ],
      "execution_count": null,
      "outputs": [
        {
          "output_type": "stream",
          "text": [
            "[[21.97748529 24.4194281  21.97748529 19.41942809 17.47748528]\n",
            " [19.77973676 21.97748529 19.77973676 17.80176308 16.02158678]\n",
            " [17.80176308 19.77973676 17.80176307 16.02158677 14.4194281 ]\n",
            " [16.02158677 17.80176308 16.02158677 14.4194281  12.97748529]\n",
            " [14.4194281  16.02158677 14.41942809 12.97748528 11.67973675]]\n",
            "[[1, 1, 3, 1, 3], [0, 0, 0, 3, 3], [0, 0, 3, 0, 0], [0, 0, 3, 3, 0], [0, 0, 3, 0, 0]]\n"
          ],
          "name": "stdout"
        }
      ]
    },
    {
      "cell_type": "code",
      "metadata": {
        "id": "MdrgrR72AiVt"
      },
      "source": [
        ""
      ],
      "execution_count": null,
      "outputs": []
    }
  ]
}